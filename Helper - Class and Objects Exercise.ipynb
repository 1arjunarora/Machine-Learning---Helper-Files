{
 "cells": [
  {
   "cell_type": "markdown",
   "metadata": {},
   "source": [
    "## Helper - Class and Objects"
   ]
  },
  {
   "cell_type": "markdown",
   "metadata": {},
   "source": [
    "* In this assignment, you will be writing a class and its methods that implement one's monetary portfolio\n",
    "* We assume that a portfolio denotes the snapshot of one's bank accounts and stock holdings\n",
    "\n",
    "__Assume the followings:__\n",
    "* someone might have\n",
    "    * Several checking accounts (it could be one or multiple or none)\n",
    "    * Several savings accounts (it could be one or multiple or none), where daily interest rate is 0. \n",
    "    * Several credit cards (it could be one or multiple or none)\n",
    "    * Money in stock (one stock or combination of different stocks, or none) for instance stocks = {'APPLE':1000, 'IBM': 300}, where keys are the stock names and values are the stock amounts. "
   ]
  },
  {
   "cell_type": "markdown",
   "metadata": {},
   "source": [
    "__Goals of this assignment__\n",
    "1. Understand how to use classes and functions together to organize your code\n",
    "2. Understand the use cases of \"try and except\" statements as well as \"if else\" conditions\n",
    "3. Understand the loops"
   ]
  },
  {
   "cell_type": "code",
   "execution_count": 556,
   "metadata": {
    "collapsed": true
   },
   "outputs": [],
   "source": [
    "class portfolio:\n",
    "    \n",
    "    def __init__(self):\n",
    "        \n",
    "        self.checking = {}\n",
    "        self.saving = {}\n",
    "        self.credit = {}\n",
    "        self.stock = {}\n",
    "\n",
    "    def add_checking_account(self, account_id): \n",
    "        self.account_id = account_id\n",
    "\n",
    "        if account_id not in self.checking:\n",
    "            self.checking[account_id] = 0\n",
    "        else:\n",
    "            pass            \n",
    "        \n",
    "        \"\"\" Add the name of the checking account into the checking dictionary.\n",
    "            for instance, if initial checking is {'chase1': 400} and you want to add \n",
    "            a checking account named capitalone, your function should \n",
    "            update the status of the \"checking\" dictionary in the following way: \n",
    "            {'chase1': 400, 'capitalone': 0}. \n",
    "            account_id is capitalone. So the user will provide the account_id (name)\n",
    "            For sake of simplicity open a new checking account always with a zero balance. \n",
    "            \n",
    "            Hints:\n",
    "            Do not forget to check if an account with the same name exists. If it does, just do nothing\n",
    "            Do not forget to use the \"self\" keyword\n",
    "        \"\"\"\n",
    "     \n",
    "    \n",
    "    def deposit_money(self, account_id, amount):\n",
    "        self.account_id = account_id\n",
    "        self.amount = amount\n",
    "\n",
    "        if account_id in self.checking:\n",
    "            self.checking[account_id] = self.checking[account_id] + amount\n",
    "        else:\n",
    "            pass  \n",
    "\n",
    "        \n",
    "        \"\"\" Let's assume we deposit money only into our checking account.\n",
    "            Your pre-deposit checking account is  {'chase1': 400, 'capitalone':0} \n",
    "            and you want to deposit 1000 into your capitalone account, your function should \n",
    "            update the \"checking\" dictionary like this: {'chase1': 400, 'capitalone': 1000}\n",
    "            \n",
    "            Hints:\n",
    "            Do not forget to check if an account_id exists in the dictionary. \n",
    "            If the accoun_id does not exist in the checking dictionary, just do nothing \n",
    "            Do not forget to use the \"self\" keyword\n",
    "        \"\"\"\n",
    "            \n",
    "        \n",
    "    def withdraw_money(self, account_id, amount):\n",
    "        self.account_id = account_id\n",
    "        self.amount = amount\n",
    "\n",
    "        if account_id in self.checking:\n",
    "            if amount <= self.checking[account_id]:\n",
    "                self.checking[account_id] = self.checking[account_id] - amount\n",
    "            else:\n",
    "                pass\n",
    "        else:\n",
    "            pass  \n",
    "        \n",
    "        \n",
    "        \"\"\" Let's assume we withdraw money only from our checking account.\n",
    "            The pre-withdrawl checking account looks like {'chase1': 400, 'capitalone':1000} \n",
    "            and you want to withdraw 200 from your capitalone account, your function should \n",
    "            update the checking attribute like this: {'chase1': 400, 'capitalone': 800} \n",
    "            Note: Accounts cannot go below 0. \n",
    "            if someone wants to withdraw 1100 from capitalone, do nothing (\"pass\" keyword should do this)\n",
    "            \n",
    "            Hints:\n",
    "            Do not forget to check if an account_id exists in the dictionary. \n",
    "            Do not forget to use the \"self\" keyword\n",
    "        \"\"\"\n",
    "        \n",
    "    \n",
    "    def get_total_checking_amount(self):\n",
    "        if len(self.checking) == 0:\n",
    "            return 0\n",
    "        else:\n",
    "            return sum(self.checking.values())\n",
    "       \n",
    "        \"\"\" return the total money amount in all of the checking accounts, \n",
    "        {'chase1': 400, 'capitalone': 800} should return 1200\n",
    "        \n",
    "        Hints:\n",
    "        Check if the checking dictionary is empty or not. If it is empty, you need to return 0\n",
    "        Use the \"self\" key word\n",
    "        \"\"\"\n",
    "    \n",
    "    def add_savings_account(self, account_id):\n",
    "        self.account_id = account_id\n",
    "\n",
    "        if account_id not in self.saving:\n",
    "            self.saving[account_id] = 0\n",
    "        else:\n",
    "            pass   \n",
    "            \n",
    "        \n",
    "        \"\"\" Add the name of the savings account into the savings dictionary.\n",
    "            For instance, if initial savings dictionary is {'chase_saving': 20000} and you want to add \n",
    "            a savings account named huntington_savings, your function should \n",
    "            update the status of the saving dictionary in the following way \n",
    "            {'chase_savings': 20000, 'huntington_savings':0}. \n",
    "            Huntington_savings is basically the account_id in the function,\n",
    "            \n",
    "            Hints:\n",
    "            For sake of simplicity open a new savings account always with a zero balance. \n",
    "            Do not forget to check if an account with the same name exists.\n",
    "            Do not forget to use the \"self\" keyword\n",
    "        \"\"\"\n",
    "\n",
    "        \n",
    "        \n",
    "    def invest_in_savings_account(self, account_id_savings, amount, account_id_checking):\n",
    "        self.account_id_savings = account_id_savings\n",
    "        self.amount = amount\n",
    "        self.account_id_checking = account_id_checking\n",
    "        \n",
    "        if account_id_savings in self.saving:\n",
    "            if account_id_checking in self.checking:\n",
    "                if self.checking[account_id_checking] >= amount:\n",
    "                    self.checking[account_id_checking] = self.checking[account_id_checking] - amount\n",
    "                    self.saving[account_id_savings] = self.saving[account_id_savings] + amount                    \n",
    "                else:\n",
    "                    pass\n",
    "            else:\n",
    "                pass\n",
    "        else:\n",
    "            pass\n",
    "\n",
    "            \n",
    "            \n",
    "        \"\"\" Let's assume before investment, the saving dictionary is {'chase_savings': 20000, 'huntington':0}\n",
    "            you want to invest 300 into huntington from one of the checking accounts. \n",
    "            this function should update the saving dictionary\n",
    "            {'chase_savings': 20000, 'huntington':300}\n",
    "            Also you need to update the checking dictionary\n",
    "            \n",
    "            Hints:\n",
    "            Do not forget to check if an account_id_savings exists in the saving dictionary. \n",
    "            Do not forget to check if an account_id_checking exists in the checking dictionary.\n",
    "            Do not forget to check if checking account has enough money to invest the amount, \n",
    "            if there is not enough money in the checking acount to invest in the savings account, do nothing\n",
    "            If the account_id does not exist, just do nothing \n",
    "            Do not forget to use the \"self\" keyword\n",
    "        \"\"\"\n",
    "    \n",
    "    \n",
    "    def get_total_savings_amount(self):\n",
    "        if len(self.saving) == 0:\n",
    "            return 0\n",
    "        else:\n",
    "            return sum(self.saving.values())\n",
    "        \n",
    "        \n",
    "        \"\"\" return the total money amount in all of the savings accounts, \n",
    "        {'chase_savings': 20000, 'huntington':0} should return 20000\n",
    "        \n",
    "        \"\"\"\n",
    "        \n",
    "        \n",
    "    def add_credit_account(self, account_id):\n",
    "        self.account_id = account_id\n",
    "        \n",
    "        if account_id not in self.credit:\n",
    "            self.credit[account_id] = 0\n",
    "        else:\n",
    "            pass\n",
    "        \n",
    "        \"\"\" just add the name of the credit card account into the credit card (credit) dictionary.\n",
    "            for instance if initial credit = {'discover': -800} and you want to open \n",
    "            a credit card account named americanExpress, your function should \n",
    "            update the status of the credit attribute (the dictionary) in the following way \n",
    "            credit = {'discover': -800, 'americanExpress = 0'}. For simplicity assume no credit limit\n",
    "        \"\"\"\n",
    "    \n",
    "    def get_credit_balance(self):\n",
    "        if len(self.credit) == 0:\n",
    "            return 0\n",
    "        else:\n",
    "            return sum(self.credit.values())       \n",
    "        \n",
    "        \"\"\" return the total money owed in all of the credit card accounts, \n",
    "            credit = {'discover': -800, 'americanExpress = -1000'} should return -1800\n",
    "        \n",
    "        \"\"\"\n",
    "        \n",
    "    def use_credit_card(self, account_id, amount):\n",
    "        self.account_id = account_id\n",
    "        self.amount = amount\n",
    "        \n",
    "        if account_id in self.credit:\n",
    "            self.credit[account_id] = self.credit[account_id] - amount\n",
    "        else:\n",
    "            pass\n",
    "            \n",
    "        \n",
    "        \"\"\" you spend money using your credit card. update the credit dictionary.\n",
    "            If account id does not exist in the credit dictionary, do nothing\n",
    "        \"\"\"\n",
    "        \n",
    "    def pay_credit_balance(self, account_id_credit, amount, account_id_checking):\n",
    "        self.account_id_credit = account_id_credit\n",
    "        self.amount = amount\n",
    "        self.account_id_checking = account_id_checking\n",
    "        \n",
    "        if account_id_credit in self.credit:\n",
    "            try:\n",
    "                if self.checking[account_id_checking] >= amount:\n",
    "                    self.checking[account_id_checking] = self.checking[account_id_checking] - amount\n",
    "                    self.credit[account_id_credit] = self.credit[account_id_credit] + amount\n",
    "                else:\n",
    "                    pass\n",
    "            except:\n",
    "                pass\n",
    "        else:\n",
    "            pass\n",
    "        \n",
    "        \n",
    "                \n",
    "        \"\"\" pay as much money as you want using checking account. If you do not have enough balance \n",
    "            in your checking acount to pay the amount, do nothing\n",
    "            This function should update both credit dictionary as well as checking dictionary\n",
    "        \"\"\"\n",
    "\n",
    "    \n",
    "        \n",
    "    def buy_stock(self, stock_name, quantity, daily_stock_prices, account_id_checking):\n",
    "        self.stock_name = stock_name\n",
    "        self.quantity = quantity\n",
    "        self.daily_stock_prices = daily_stock_prices\n",
    "        self.account_id_checking = account_id_checking\n",
    "        \n",
    "        counter = 0\n",
    "        self.stock[stock_name] = counter\n",
    "        \n",
    "        if account_id_checking in self.checking:    \n",
    "            if self.checking[account_id_checking] >= (quantity * daily_stock_prices[stock_name]):\n",
    "                self.checking[account_id_checking] = self.checking[account_id_checking] - (quantity * daily_stock_prices[stock_name])\n",
    "                self.stock[stock_name] = counter + quantity\n",
    "            else:\n",
    "                pass\n",
    "        else:\n",
    "            pass    \n",
    "        \n",
    "        \n",
    "        \"\"\" Use the money in your checking account to buy stocks. This function will update \n",
    "            two dictionaries: checking and stocks.\n",
    "            daily_stock_prices is a dictionary that contains the stock type and its price on that day.\n",
    "            for instance daily_stock_prices = {'AAPL': 156.00, 'IBM': 145, 'GOOGL': 1067, 'CMCSA': 36}\n",
    "            you want to buy 10 shares of CMCSA, then your checking account that you used to buy the stock\n",
    "            must decrease 10*36 (360). in this case, account_id refers to which cehceking account you use.\n",
    "            if you do not have enough money in your checking acount to buy stocks, do nothing.\n",
    "        \"\"\"\n",
    "    \n",
    "    def sell_stock(self, stock_name, quantity, daily_stock_prices, account_id_checking):\n",
    "        self.stock_name = stock_name\n",
    "        self.quantity = quantity\n",
    "        self.daily_stock_prices = daily_stock_prices\n",
    "        self.account_id_checking = account_id_checking\n",
    "\n",
    "       # counter = 0\n",
    "       # self.stock[stock_name] = counter\n",
    "        \n",
    "        if account_id_checking in self.checking:    \n",
    "            if  self.stock[stock_name]  >= quantity:\n",
    "                self.checking[account_id_checking] = self.checking[account_id_checking] + (quantity * daily_stock_prices[stock_name])\n",
    "                self.stock[stock_name] = self.stock[stock_name] - quantity\n",
    "            else:\n",
    "                pass\n",
    "        else:\n",
    "            pass    \n",
    "        \n",
    "\n",
    "        \"\"\" This function will also update stock and checking dictionaries.\n",
    "            for instance daily_stock_prices = {'AAPL': 156.00, 'IBM': 145, 'GOOGL': 1067, 'CMCSA': 36}\n",
    "            you want to SELL 10 shares of CMCSA, then your checking account that you used to SELL the stock\n",
    "            must INCREASE 10*36 (360). in this case, account_id refers to which chceking account you use.\n",
    "            Do not forget to decrease the stock amount by 10 shares for that specific stock\n",
    "        \"\"\"\n",
    "        \n",
    "        \n",
    "\n",
    "        \n",
    "    def get_stock_value(self,daily_stock_prices):\n",
    "        self.daily_stock_prices = daily_stock_prices\n",
    "        \n",
    "        if len(self.stock) == 0:\n",
    "            return 0\n",
    "        else:\n",
    "            dollar_stock = 0\n",
    "            for i in self.stock:\n",
    "                dollar_stock = dollar_stock + daily_stock_prices[i] * self.stock[i]\n",
    "            return dollar_stock\n",
    "\n",
    "        \"\"\" \n",
    "        This is going to return the total dollar amount you have in your stocks\n",
    "        \n",
    "        \"\"\"\n",
    "        \n",
    "    def get_total_portfolio(self, daily_stock_prices):\n",
    "        self.daily_stock_prices = daily_stock_prices\n",
    "        \n",
    "        dollar_stock = 0\n",
    "        for i in self.stock:\n",
    "                dollar_stock = dollar_stock + daily_stock_prices[i] * self.stock[i]\n",
    "            \n",
    "        return sum(self.checking.values()) + sum(self.saving.values()) + sum(self.credit.values()) + dollar_stock\n",
    "               \n",
    "        \"\"\" total amount of wealth you have in all of your accounts \"\"\"\n"
   ]
  },
  {
   "cell_type": "code",
   "execution_count": 557,
   "metadata": {},
   "outputs": [
    {
     "name": "stdout",
     "output_type": "stream",
     "text": [
      "Pass\n"
     ]
    }
   ],
   "source": [
    "# test_case 1\n",
    "myportfolio = portfolio()\n",
    "if myportfolio.checking == {}:\n",
    "    print 'Pass'\n",
    "else:\n",
    "    print 'Fail'"
   ]
  },
  {
   "cell_type": "code",
   "execution_count": 558,
   "metadata": {},
   "outputs": [
    {
     "name": "stdout",
     "output_type": "stream",
     "text": [
      "Pass\n"
     ]
    }
   ],
   "source": [
    "# test_case 2\n",
    "myportfolio.add_checking_account('chase_6688')\n",
    "if myportfolio.checking == {'chase_6688': 0}:\n",
    "    print 'Pass'\n",
    "else:\n",
    "    print 'Fail'"
   ]
  },
  {
   "cell_type": "code",
   "execution_count": 559,
   "metadata": {},
   "outputs": [
    {
     "name": "stdout",
     "output_type": "stream",
     "text": [
      "Pass\n"
     ]
    }
   ],
   "source": [
    "# test_case 3\n",
    "myportfolio.add_checking_account('discover_7732')\n",
    "myportfolio.deposit_money('chase_6688', 500)\n",
    "if myportfolio.checking == {'chase_6688': 500, 'discover_7732':0}:\n",
    "    print 'Pass'\n",
    "else:\n",
    "    print 'Fail'"
   ]
  },
  {
   "cell_type": "code",
   "execution_count": 560,
   "metadata": {},
   "outputs": [
    {
     "name": "stdout",
     "output_type": "stream",
     "text": [
      "Pass\n"
     ]
    }
   ],
   "source": [
    "# test_case 4\n",
    "myportfolio.deposit_money('discover_7732', 9000)\n",
    "if myportfolio.checking == {'chase_6688': 500, 'discover_7732':9000}:\n",
    "    print 'Pass'\n",
    "else:\n",
    "    print 'Fail'"
   ]
  },
  {
   "cell_type": "code",
   "execution_count": 561,
   "metadata": {},
   "outputs": [
    {
     "name": "stdout",
     "output_type": "stream",
     "text": [
      "Pass\n"
     ]
    }
   ],
   "source": [
    "myportfolio.withdraw_money('chase_6688', 400)\n",
    "myportfolio.withdraw_money('discover_7732', 2500)\n",
    "if myportfolio.checking == {'chase_6688': 100, 'discover_7732':6500}:\n",
    "    print 'Pass'\n",
    "else:\n",
    "    print 'Fail'"
   ]
  },
  {
   "cell_type": "code",
   "execution_count": 562,
   "metadata": {},
   "outputs": [
    {
     "name": "stdout",
     "output_type": "stream",
     "text": [
      "Pass\n"
     ]
    }
   ],
   "source": [
    "if myportfolio.get_total_checking_amount() == 6600:\n",
    "    print 'Pass'\n",
    "else:\n",
    "    print 'Fail'"
   ]
  },
  {
   "cell_type": "code",
   "execution_count": 563,
   "metadata": {},
   "outputs": [
    {
     "name": "stdout",
     "output_type": "stream",
     "text": [
      "Pass\n"
     ]
    }
   ],
   "source": [
    "myportfolio.add_savings_account('chase_saving_4444')\n",
    "myportfolio.add_savings_account('discover_saving_3785')\n",
    "if myportfolio.saving == {'chase_saving_4444': 0, 'discover_saving_3785':0}:\n",
    "    print 'Pass'\n",
    "else:\n",
    "    print 'Fail'"
   ]
  },
  {
   "cell_type": "code",
   "execution_count": 564,
   "metadata": {},
   "outputs": [
    {
     "name": "stdout",
     "output_type": "stream",
     "text": [
      "Pass\n"
     ]
    }
   ],
   "source": [
    "myportfolio.invest_in_savings_account('discover_saving_3785', 100000, 'discover_7732')\n",
    "if (myportfolio.saving == {'chase_saving_4444': 0, 'discover_saving_3785':0}) and (myportfolio.checking == {'chase_6688': 100, 'discover_7732':6500}):\n",
    "    print 'Pass'\n",
    "else:\n",
    "    print 'Fail'"
   ]
  },
  {
   "cell_type": "code",
   "execution_count": 565,
   "metadata": {},
   "outputs": [
    {
     "name": "stdout",
     "output_type": "stream",
     "text": [
      "Pass\n"
     ]
    }
   ],
   "source": [
    "myportfolio.invest_in_savings_account('discover_saving_3785', 1000, 'discover_7732')\n",
    "if (myportfolio.saving == {'chase_saving_4444': 0, 'discover_saving_3785':1000}) and (myportfolio.checking == {'chase_6688': 100, 'discover_7732':5500}):\n",
    "    print 'Pass'\n",
    "else:\n",
    "    print 'Fail'"
   ]
  },
  {
   "cell_type": "code",
   "execution_count": 566,
   "metadata": {},
   "outputs": [
    {
     "name": "stdout",
     "output_type": "stream",
     "text": [
      "Pass\n"
     ]
    }
   ],
   "source": [
    "if myportfolio.get_total_checking_amount() == 5600:\n",
    "    print 'Pass'\n",
    "else:\n",
    "    print 'Fail'"
   ]
  },
  {
   "cell_type": "code",
   "execution_count": 567,
   "metadata": {},
   "outputs": [
    {
     "name": "stdout",
     "output_type": "stream",
     "text": [
      "Pass\n"
     ]
    }
   ],
   "source": [
    "if myportfolio.get_total_savings_amount() == 1000:\n",
    "    print 'Pass'\n",
    "else:\n",
    "    print 'Fail'"
   ]
  },
  {
   "cell_type": "code",
   "execution_count": 568,
   "metadata": {},
   "outputs": [
    {
     "name": "stdout",
     "output_type": "stream",
     "text": [
      "Pass\n"
     ]
    }
   ],
   "source": [
    "if myportfolio.get_total_portfolio({'APPL':100, 'GOOGL': 130}) == 6600:\n",
    "    print 'Pass'\n",
    "else:\n",
    "    print 'Fail'"
   ]
  },
  {
   "cell_type": "code",
   "execution_count": 569,
   "metadata": {},
   "outputs": [
    {
     "name": "stdout",
     "output_type": "stream",
     "text": [
      "Pass\n"
     ]
    }
   ],
   "source": [
    "myportfolio.add_credit_account('amex_1111')\n",
    "myportfolio.add_credit_account('capitaloneVenture_6644')\n",
    "if myportfolio.credit == {'amex_1111': 0, 'capitaloneVenture_6644': 0}:\n",
    "    print 'Pass'\n",
    "else:\n",
    "    print 'Fail'   "
   ]
  },
  {
   "cell_type": "code",
   "execution_count": 570,
   "metadata": {},
   "outputs": [
    {
     "name": "stdout",
     "output_type": "stream",
     "text": [
      "Pass\n"
     ]
    }
   ],
   "source": [
    "myportfolio.use_credit_card('capitaloneVenture_6644', 4000)\n",
    "if myportfolio.credit == {'amex_1111': 0, 'capitaloneVenture_6644': -4000}:\n",
    "    print 'Pass'\n",
    "else:\n",
    "    print 'Fail' "
   ]
  },
  {
   "cell_type": "code",
   "execution_count": 571,
   "metadata": {},
   "outputs": [
    {
     "name": "stdout",
     "output_type": "stream",
     "text": [
      "Pass\n"
     ]
    }
   ],
   "source": [
    "if myportfolio.get_total_portfolio({'APPL':100, 'GOOGL': 130}) == 2600:\n",
    "    print 'Pass'\n",
    "else:\n",
    "    print 'Fail'"
   ]
  },
  {
   "cell_type": "code",
   "execution_count": 572,
   "metadata": {},
   "outputs": [
    {
     "name": "stdout",
     "output_type": "stream",
     "text": [
      "Pass\n"
     ]
    }
   ],
   "source": [
    "myportfolio.pay_credit_balance('capitaloneVenture_6644', 50, 'chase_6688')\n",
    "if myportfolio.checking == {'chase_6688': 50, 'discover_7732': 5500}:\n",
    "    print 'Pass'\n",
    "else:\n",
    "    print 'Fail'"
   ]
  },
  {
   "cell_type": "code",
   "execution_count": 573,
   "metadata": {},
   "outputs": [
    {
     "name": "stdout",
     "output_type": "stream",
     "text": [
      "Pass\n"
     ]
    }
   ],
   "source": [
    "if myportfolio.get_credit_balance() == -3950:\n",
    "    print 'Pass'\n",
    "else:\n",
    "    print 'Fail'"
   ]
  },
  {
   "cell_type": "code",
   "execution_count": 574,
   "metadata": {},
   "outputs": [
    {
     "name": "stdout",
     "output_type": "stream",
     "text": [
      "Pass\n"
     ]
    }
   ],
   "source": [
    "myportfolio.pay_credit_balance('capitaloneVenture_6644', 2000, 'discover_7732')\n",
    "if myportfolio.checking == {'chase_6688': 50, 'discover_7732': 3500}:\n",
    "    print 'Pass'\n",
    "else:\n",
    "    print 'Fail'"
   ]
  },
  {
   "cell_type": "code",
   "execution_count": 575,
   "metadata": {},
   "outputs": [
    {
     "name": "stdout",
     "output_type": "stream",
     "text": [
      "Pass\n"
     ]
    }
   ],
   "source": [
    "if myportfolio.get_credit_balance() == -1950:\n",
    "    print 'Pass'\n",
    "else:\n",
    "    print 'Fail'"
   ]
  },
  {
   "cell_type": "code",
   "execution_count": 576,
   "metadata": {},
   "outputs": [
    {
     "name": "stdout",
     "output_type": "stream",
     "text": [
      "Pass\n"
     ]
    }
   ],
   "source": [
    "myportfolio.buy_stock('APPL', 5, {'APPL':100, 'GOOGL': 130}, 'discover_7732')\n",
    "if myportfolio.stock == {'APPL': 5}:\n",
    "    print 'Pass'\n",
    "else:\n",
    "    print 'Fail'"
   ]
  },
  {
   "cell_type": "code",
   "execution_count": 577,
   "metadata": {},
   "outputs": [
    {
     "name": "stdout",
     "output_type": "stream",
     "text": [
      "Pass\n"
     ]
    }
   ],
   "source": [
    "if myportfolio.get_total_portfolio({'APPL':100, 'GOOGL': 130}) == 2600:\n",
    "    print 'Pass'\n",
    "else:\n",
    "    print 'fail'\n",
    "    "
   ]
  },
  {
   "cell_type": "code",
   "execution_count": 578,
   "metadata": {},
   "outputs": [
    {
     "name": "stdout",
     "output_type": "stream",
     "text": [
      "Pass\n"
     ]
    }
   ],
   "source": [
    "myportfolio.sell_stock('APPL', 3, {'APPL':300, 'GOOGL': 130}, 'discover_7732')\n",
    "if myportfolio.get_total_portfolio({'APPL':100, 'GOOGL': 130}) == 3200:\n",
    "    print 'Pass'\n",
    "else:\n",
    "    print 'fail'"
   ]
  },
  {
   "cell_type": "code",
   "execution_count": null,
   "metadata": {
    "collapsed": true
   },
   "outputs": [],
   "source": []
  }
 ],
 "metadata": {
  "kernelspec": {
   "display_name": "Python 3",
   "language": "python",
   "name": "python3"
  },
  "language_info": {
   "codemirror_mode": {
    "name": "ipython",
    "version": 3
   },
   "file_extension": ".py",
   "mimetype": "text/x-python",
   "name": "python",
   "nbconvert_exporter": "python",
   "pygments_lexer": "ipython3",
   "version": "3.6.4"
  },
  "toc": {
   "nav_menu": {},
   "number_sections": true,
   "sideBar": true,
   "skip_h1_title": false,
   "toc_cell": false,
   "toc_position": {},
   "toc_section_display": "block",
   "toc_window_display": false
  },
  "varInspector": {
   "cols": {
    "lenName": 16,
    "lenType": 16,
    "lenVar": 40
   },
   "kernels_config": {
    "python": {
     "delete_cmd_postfix": "",
     "delete_cmd_prefix": "del ",
     "library": "var_list.py",
     "varRefreshCmd": "print(var_dic_list())"
    },
    "r": {
     "delete_cmd_postfix": ") ",
     "delete_cmd_prefix": "rm(",
     "library": "var_list.r",
     "varRefreshCmd": "cat(var_dic_list()) "
    }
   },
   "types_to_exclude": [
    "module",
    "function",
    "builtin_function_or_method",
    "instance",
    "_Feature"
   ],
   "window_display": false
  }
 },
 "nbformat": 4,
 "nbformat_minor": 2
}
